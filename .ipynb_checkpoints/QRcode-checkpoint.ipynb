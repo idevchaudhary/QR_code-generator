{
 "cells": [
  {
   "cell_type": "code",
   "execution_count": 1,
   "id": "061bf9f6",
   "metadata": {},
   "outputs": [],
   "source": [
    "import qrcode\n",
    "import image\n",
    "\n",
    "qr=qrcode.QRCode(version=15,#higher the version number bigger the code image and complicated picture \n",
    "                 box_size=10,#size of the box where the qr code will be displayed \n",
    "                 border=5,#it is the white part of image ,,,,border in all 4 slides with white colour\n",
    "                 )\n",
    "data='https://github.com/idevchaudhary'\n",
    "\n",
    "qr.add_data(data)\n",
    "qr.make(fit=True)\n",
    "img=qr.make_image(fill='black',back_color='white')\n",
    "img.save(\"Dev_Github.png\")"
   ]
  },
  {
   "cell_type": "code",
   "execution_count": null,
   "id": "5fb402ef",
   "metadata": {},
   "outputs": [],
   "source": []
  }
 ],
 "metadata": {
  "kernelspec": {
   "display_name": "Python 3 (ipykernel)",
   "language": "python",
   "name": "python3"
  },
  "language_info": {
   "codemirror_mode": {
    "name": "ipython",
    "version": 3
   },
   "file_extension": ".py",
   "mimetype": "text/x-python",
   "name": "python",
   "nbconvert_exporter": "python",
   "pygments_lexer": "ipython3",
   "version": "3.10.4"
  }
 },
 "nbformat": 4,
 "nbformat_minor": 5
}
